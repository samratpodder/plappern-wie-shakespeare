{
 "cells": [
  {
   "cell_type": "code",
   "execution_count": 12,
   "id": "eda5e9c8",
   "metadata": {},
   "outputs": [
    {
     "name": "stderr",
     "output_type": "stream",
     "text": [
      "  % Total    % Received % Xferd  Average Speed   Time    Time     Time  Current\n",
      "                                 Dload  Upload   Total   Spent    Left  Speed\n",
      "\n",
      "  0     0    0     0    0     0      0      0 --:--:-- --:--:-- --:--:--     0\n",
      "  0     0    0     0    0     0      0      0 --:--:-- --:--:-- --:--:--     0\n",
      "100 1089k  100 1089k    0     0  2484k      0 --:--:-- --:--:-- --:--:-- 2504k\n"
     ]
    }
   ],
   "source": [
    "!curl https://raw.githubusercontent.com/karpathy/ng-video-lecture/refs/heads/master/input.txt -o input.txt"
   ]
  },
  {
   "cell_type": "code",
   "execution_count": 48,
   "id": "b86d02e8",
   "metadata": {},
   "outputs": [],
   "source": [
    "import torch\n",
    "import torch.nn as nn\n",
    "import torch.nn.functional as F"
   ]
  },
  {
   "cell_type": "code",
   "execution_count": 13,
   "id": "42015ef7",
   "metadata": {},
   "outputs": [],
   "source": [
    "with open('input.txt', 'r') as f:\n",
    "    text = f.read()"
   ]
  },
  {
   "cell_type": "code",
   "execution_count": 16,
   "id": "17709b4d",
   "metadata": {},
   "outputs": [
    {
     "name": "stdout",
     "output_type": "stream",
     "text": [
      "Total characters 1115394\n"
     ]
    }
   ],
   "source": [
    "print(\"Total characters\" , (len(text)))"
   ]
  },
  {
   "cell_type": "code",
   "execution_count": 19,
   "id": "e138c68e",
   "metadata": {},
   "outputs": [
    {
     "data": {
      "text/plain": [
       "'First Citizen:\\nBefore we proceed any further, hear me speak.\\n\\nAll:\\nSpeak, speak.\\n\\nFirst Citizen:\\nYou'"
      ]
     },
     "execution_count": 19,
     "metadata": {},
     "output_type": "execute_result"
    }
   ],
   "source": [
    "text[:100]"
   ]
  },
  {
   "cell_type": "code",
   "execution_count": null,
   "id": "0e180f8b",
   "metadata": {},
   "outputs": [
    {
     "name": "stdout",
     "output_type": "stream",
     "text": [
      "['\\n', ' ', '!', '$', '&', \"'\", ',', '-', '.', '3', ':', ';', '?', 'A', 'B', 'C', 'D', 'E', 'F', 'G', 'H', 'I', 'J', 'K', 'L', 'M', 'N', 'O', 'P', 'Q', 'R', 'S', 'T', 'U', 'V', 'W', 'X', 'Y', 'Z', 'a', 'b', 'c', 'd', 'e', 'f', 'g', 'h', 'i', 'j', 'k', 'l', 'm', 'n', 'o', 'p', 'q', 'r', 's', 't', 'u', 'v', 'w', 'x', 'y', 'z']\n",
      "65\n"
     ]
    }
   ],
   "source": [
    "# These are all the characters that the model will know. This is the vocab of the model\n",
    "chars = sorted(list(set(text)))\n",
    "vocab_size = len(chars)\n",
    "print(chars)\n",
    "print(vocab_size)"
   ]
  },
  {
   "cell_type": "code",
   "execution_count": 24,
   "id": "f7b5b48c",
   "metadata": {},
   "outputs": [],
   "source": [
    "# Tokenization \n",
    "# A integer representation of the data. We will map our vocab to integer representations\n",
    "stoi = {char:i for i,char in enumerate(chars)}\n",
    "itos = {i:char for i,char in enumerate(chars)}\n",
    "\n",
    "def encode(s)->list:\n",
    "    return [stoi[c] for c in s]\n",
    "def decode(listofint)->list:\n",
    "    return [itos[i] for i in listofint]"
   ]
  },
  {
   "cell_type": "code",
   "execution_count": 25,
   "id": "c4013cdb",
   "metadata": {},
   "outputs": [
    {
     "data": {
      "text/plain": [
       "[35, 43, 50, 41, 53, 51, 43, 1, 58, 53, 1, 13, 21, 9]"
      ]
     },
     "execution_count": 25,
     "metadata": {},
     "output_type": "execute_result"
    }
   ],
   "source": [
    "encode(\"Welcome to AI3\")"
   ]
  },
  {
   "cell_type": "code",
   "execution_count": 26,
   "id": "5ad1f980",
   "metadata": {},
   "outputs": [
    {
     "data": {
      "text/plain": [
       "['W', 'e', 'l', 'c', 'o', 'm', 'e', ' ', 't', 'o', ' ', 'A', 'I', '3']"
      ]
     },
     "execution_count": 26,
     "metadata": {},
     "output_type": "execute_result"
    }
   ],
   "source": [
    "decode([35, 43, 50, 41, 53, 51, 43, 1, 58, 53, 1, 13, 21, 9])"
   ]
  },
  {
   "cell_type": "code",
   "execution_count": 28,
   "id": "9bedd402",
   "metadata": {},
   "outputs": [
    {
     "name": "stdout",
     "output_type": "stream",
     "text": [
      "Welcome to AI3\n"
     ]
    }
   ],
   "source": [
    "print(''.join(decode([35, 43, 50, 41, 53, 51, 43, 1, 58, 53, 1, 13, 21, 9])))"
   ]
  },
  {
   "cell_type": "code",
   "execution_count": 29,
   "id": "78e4f8bc",
   "metadata": {},
   "outputs": [],
   "source": [
    "# For encoding openai uses tiktoken and google uses sentencepiece"
   ]
  },
  {
   "cell_type": "code",
   "execution_count": 39,
   "id": "642cc166",
   "metadata": {},
   "outputs": [
    {
     "name": "stdout",
     "output_type": "stream",
     "text": [
      "torch.Size([1115394]) torch.int64\n",
      "tensor([18, 47, 56, 57, 58,  1, 15, 47, 58, 47])\n"
     ]
    }
   ],
   "source": [
    "data = torch.tensor(encode(text),dtype=torch.long)\n",
    "print(data.shape,data.dtype)\n",
    "print(data[:10])"
   ]
  },
  {
   "cell_type": "code",
   "execution_count": 40,
   "id": "ec14fdcb",
   "metadata": {},
   "outputs": [],
   "source": [
    "n = int(0.9*len(data))"
   ]
  },
  {
   "cell_type": "code",
   "execution_count": 42,
   "id": "e0e34d62",
   "metadata": {},
   "outputs": [],
   "source": [
    "train_data = data[:n]\n",
    "val_data = data[n:]"
   ]
  },
  {
   "cell_type": "code",
   "execution_count": 43,
   "id": "50d8fb62",
   "metadata": {},
   "outputs": [],
   "source": [
    "block_size = 8\n"
   ]
  },
  {
   "cell_type": "code",
   "execution_count": 44,
   "id": "081b9cbc",
   "metadata": {},
   "outputs": [
    {
     "data": {
      "text/plain": [
       "tensor([18, 47, 56, 57, 58,  1, 15, 47, 58])"
      ]
     },
     "execution_count": 44,
     "metadata": {},
     "output_type": "execute_result"
    }
   ],
   "source": [
    "train_data[:block_size+1]"
   ]
  },
  {
   "cell_type": "code",
   "execution_count": 46,
   "id": "ed3dbc91",
   "metadata": {},
   "outputs": [
    {
     "name": "stdout",
     "output_type": "stream",
     "text": [
      "inputs\n",
      "torch.Size([4, 8])\n",
      "tensor([[24, 43, 58,  5, 57,  1, 46, 43],\n",
      "        [44, 53, 56,  1, 58, 46, 39, 58],\n",
      "        [52, 58,  1, 58, 46, 39, 58,  1],\n",
      "        [25, 17, 27, 10,  0, 21,  1, 54]])\n",
      "targets\n",
      "torch.Size([4, 8])\n",
      "tensor([[43, 58,  5, 57,  1, 46, 43, 39],\n",
      "        [53, 56,  1, 58, 46, 39, 58,  1],\n",
      "        [58,  1, 58, 46, 39, 58,  1, 46],\n",
      "        [17, 27, 10,  0, 21,  1, 54, 39]])\n"
     ]
    }
   ],
   "source": [
    "torch.manual_seed(1337)\n",
    "batch_size = 4\n",
    "block_size = 8\n",
    "\n",
    "def get_batch(split):\n",
    "    data = train_data if split == 'train' else val_data\n",
    "    ix = torch.randint(len(data)-block_size, (batch_size,))\n",
    "    x = torch.stack([data[i:block_size+i] for i in ix])\n",
    "    y = torch.stack([data[i+1:block_size+i+1] for i in ix])\n",
    "    return x,y\n",
    "\n",
    "xb,yb = get_batch(\"train\")\n",
    "print(\"inputs\")\n",
    "print(xb.shape)\n",
    "print(xb)\n",
    "print(\"targets\")\n",
    "print(yb.shape)\n",
    "print(yb)\n",
    "\n"
   ]
  },
  {
   "cell_type": "code",
   "execution_count": 57,
   "id": "a8117fa2",
   "metadata": {},
   "outputs": [
    {
     "name": "stdout",
     "output_type": "stream",
     "text": [
      "torch.Size([32, 65])\n",
      "tensor(4.6351, grad_fn=<NllLossBackward0>)\n",
      "\n",
      "VuWj;XdeaV,JwK,JugYjGpFkIQ-!xu3pphoQoX.GzW JmcpeHFRl!NKFn,NE,kAAd\n",
      "mtBGXdwGntRDx3f!iJE;kgEEedw3SuOMn!\n"
     ]
    }
   ],
   "source": [
    "class BigramLangModel(nn.Module):\n",
    "    def __init__(self, *args, **kwargs) -> None:\n",
    "        super().__init__(*args, **kwargs)\n",
    "        self.token_embd_table = nn.Embedding(vocab_size,vocab_size)\n",
    "    \n",
    "    def forward(self,idx,targets=None):\n",
    "        logits = self.token_embd_table(idx) # (Batch,Block - Time,Channels-hold the unnormalized prob vals)\n",
    "        if targets is None:\n",
    "            loss = None\n",
    "        else:\n",
    "            B,T,C = logits.shape\n",
    "            logits = logits.view(B*T,C)\n",
    "            targets = targets.view(B*T)\n",
    "            loss = F.cross_entropy(logits,targets)\n",
    "        return logits,loss\n",
    "\n",
    "    def generate(self,idx,max_new_tokens):\n",
    "        # idx is array of idx of shape(B,T)\n",
    "        for i in range(max_new_tokens):\n",
    "            logits,loss = self(idx)\n",
    "            # concerned with only the last pred of the entire block\n",
    "            # contains only the last value of the sequence of each batch\n",
    "            logits = logits[:,-1,:] #(B,C)\n",
    "            probs = F.softmax(logits, dim=-1)\n",
    "            idx_next = torch.multinomial(probs,num_samples=1) #(B,1)\n",
    "            # Adding the predictions to the end one char at a time (B,T+1)\n",
    "            idx = torch.cat((idx,idx_next),dim=1) \n",
    "        return idx\n",
    "m = BigramLangModel()\n",
    "logits,loss = m(xb,yb)\n",
    "print(logits.shape)\n",
    "print(loss)\n",
    "input = torch.zeros((1,1),dtype=torch.long)\n",
    "max_new_tokens = 100\n",
    "output = m.generate(input,max_new_tokens=max_new_tokens)[0].tolist()\n",
    "print(''.join(decode(output)))\n"
   ]
  },
  {
   "cell_type": "code",
   "execution_count": 59,
   "id": "e7630812",
   "metadata": {},
   "outputs": [],
   "source": [
    "optimizer = torch.optim.AdamW(m.parameters(),lr=1e-3)"
   ]
  },
  {
   "cell_type": "code",
   "execution_count": 62,
   "id": "71159de1",
   "metadata": {},
   "outputs": [
    {
     "ename": "KeyboardInterrupt",
     "evalue": "",
     "output_type": "error",
     "traceback": [
      "\u001b[31m---------------------------------------------------------------------------\u001b[39m",
      "\u001b[31mKeyboardInterrupt\u001b[39m                         Traceback (most recent call last)",
      "\u001b[36mCell\u001b[39m\u001b[36m \u001b[39m\u001b[32mIn[62]\u001b[39m\u001b[32m, line 3\u001b[39m\n\u001b[32m      1\u001b[39m batch_size = \u001b[32m32\u001b[39m\n\u001b[32m      2\u001b[39m \u001b[38;5;28;01mfor\u001b[39;00m steps \u001b[38;5;129;01min\u001b[39;00m \u001b[38;5;28mrange\u001b[39m(\u001b[32m1000000000000\u001b[39m):\n\u001b[32m----> \u001b[39m\u001b[32m3\u001b[39m     xb,yb = \u001b[43mget_batch\u001b[49m\u001b[43m(\u001b[49m\u001b[33;43m'\u001b[39;49m\u001b[33;43mtrain\u001b[39;49m\u001b[33;43m'\u001b[39;49m\u001b[43m)\u001b[49m\n\u001b[32m      4\u001b[39m     logits,loss = m(xb,yb)\n\u001b[32m      5\u001b[39m     optimizer.zero_grad(set_to_none=\u001b[38;5;28;01mTrue\u001b[39;00m)\n",
      "\u001b[36mCell\u001b[39m\u001b[36m \u001b[39m\u001b[32mIn[46]\u001b[39m\u001b[32m, line 9\u001b[39m, in \u001b[36mget_batch\u001b[39m\u001b[34m(split)\u001b[39m\n\u001b[32m      7\u001b[39m ix = torch.randint(\u001b[38;5;28mlen\u001b[39m(data)-block_size, (batch_size,))\n\u001b[32m      8\u001b[39m x = torch.stack([data[i:block_size+i] \u001b[38;5;28;01mfor\u001b[39;00m i \u001b[38;5;129;01min\u001b[39;00m ix])\n\u001b[32m----> \u001b[39m\u001b[32m9\u001b[39m y = torch.stack([data[i+\u001b[32m1\u001b[39m:block_size+i+\u001b[32m1\u001b[39m] \u001b[38;5;28;01mfor\u001b[39;00m i \u001b[38;5;129;01min\u001b[39;00m ix])\n\u001b[32m     10\u001b[39m \u001b[38;5;28;01mreturn\u001b[39;00m x,y\n",
      "\u001b[31mKeyboardInterrupt\u001b[39m: "
     ]
    }
   ],
   "source": [
    "batch_size = 32\n",
    "for steps in range(1000000000000):\n",
    "    xb,yb = get_batch('train')\n",
    "    logits,loss = m(xb,yb)\n",
    "    optimizer.zero_grad(set_to_none=True)\n",
    "    loss.backward()\n",
    "    optimizer.step()\n",
    "print(loss.item())"
   ]
  },
  {
   "cell_type": "code",
   "execution_count": 63,
   "id": "cda5ece7",
   "metadata": {},
   "outputs": [
    {
     "name": "stdout",
     "output_type": "stream",
     "text": [
      "\n",
      "Theaicaloo ourowanef oud h'l ll pacquthisafan:\n",
      "O:\n",
      "LO fetilalpamyoff isththeasth! wifang ay womus Hom!\n",
      "\n",
      "F es, thowir ged f n mn,\n",
      "Thodyoowemom, w man, coflo.\n",
      "I 'd ns nd. anoout t,\n",
      "Fr wigrel Cove t my g ouce,\n",
      "An arpissan CHus the hoiarsslacke y; r I y coby nds;\n",
      "S:\n",
      "Wancuar t e th y bestre,\n",
      "Who y bllene s,\n",
      "n.\n",
      "\n",
      "RKINofer, ano m meayos tth I lein y senot t wn\n",
      "punftr ve'd, ay th teldustr har IO,\n",
      "CEESe harr he t IETheawindust cre sw ICrin\n",
      "By chor sour, f;\n",
      "\n",
      "UTok ties caroul.\n",
      "T: h urddshen, bead myst a ICAnd his:\n",
      "We a Foutou ayond suld y s fomord hehmessagdr tend wane ad s fas!\n",
      "MIIE:\n",
      "HUpowouruber I gsthest pengimuthe bes! sing.\n",
      "\n",
      "Th bis on pof ll wigh dowil sh hareas?\n",
      "QUK:\n",
      "I bas ll thou he p amon hin sedallloulin.\n",
      "\n",
      "'d ses by utat:\n",
      "Wh we t thouo in wiveseit o tse, ombe;\n",
      "Tharep kilo, kainttheain k!\n",
      "WERor hayowre acurkeatsshanad llato st\n",
      "HI, t w pild, har he g wice urathofondyoesthe aty; IN:\n",
      "The t meno hy s.\n",
      "S:\n",
      "Tu, tore Se h to ce Bundous tasthiono thar w;\n",
      "Th ce.\n",
      "\n",
      "STo:\n",
      "\n",
      "D whewarsushenowengouldghesethe\n"
     ]
    }
   ],
   "source": [
    "input = torch.zeros((100,1),dtype=torch.long)\n",
    "max_new_tokens = 1000\n",
    "output = m.generate(input,max_new_tokens=max_new_tokens)[0].tolist()\n",
    "print(''.join(decode(output)))"
   ]
  },
  {
   "cell_type": "code",
   "execution_count": 64,
   "id": "214acf5a",
   "metadata": {},
   "outputs": [
    {
     "name": "stdout",
     "output_type": "stream",
     "text": [
      "\n",
      "WIEL:\n",
      "ARDWer w gadsand:\n",
      "sel, mepr, cerixt ck-bat t Weresisiloun D:\n",
      "Tasein, lodot m f'dingan, h w:\n",
      "\n",
      "Himmer f fo ther touthil.\n",
      "topo, grobalchentlolerd the the; thar wof fiennd ort. nk may, thechy, m tyontu\n",
      "S:\n",
      "DUSar hind aisas, tanoureleswiomathard;\n",
      "ADIt th, ht. wio ar\n",
      "ica re wh d f.\n",
      "yshoy wotanelo My ork\n",
      "Yopan al ord in scut,\n",
      "re thastrent et m icengenk rove indourn angimboonckeathor\n",
      "IZWAn beavene ackis ve'd, ove ourea aned yougote.\n",
      "Fiks m!'s?\n",
      "ARMy amyom s h wanesou.\n",
      "CO, senthat iofaveas rim,\n",
      "the--\n"
     ]
    }
   ],
   "source": [
    "input = torch.zeros((1,1),dtype=torch.long)\n",
    "max_new_tokens = 500\n",
    "output = m.generate(input,max_new_tokens=max_new_tokens)[0].tolist()\n",
    "print(''.join(decode(output)))"
   ]
  },
  {
   "cell_type": "code",
   "execution_count": null,
   "id": "2426a1ba",
   "metadata": {},
   "outputs": [],
   "source": []
  }
 ],
 "metadata": {
  "kernelspec": {
   "display_name": ".venv",
   "language": "python",
   "name": "python3"
  },
  "language_info": {
   "codemirror_mode": {
    "name": "ipython",
    "version": 3
   },
   "file_extension": ".py",
   "mimetype": "text/x-python",
   "name": "python",
   "nbconvert_exporter": "python",
   "pygments_lexer": "ipython3",
   "version": "3.12.10"
  }
 },
 "nbformat": 4,
 "nbformat_minor": 5
}
